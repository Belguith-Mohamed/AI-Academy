{
 "cells": [
  {
   "cell_type": "markdown",
   "metadata": {},
   "source": [
    "## Linear regression"
   ]
  },
  {
   "cell_type": "code",
   "execution_count": 1,
   "metadata": {},
   "outputs": [],
   "source": [
    "import numpy as np\n",
    "import matplotlib.pyplot as plt\n",
    "import matplotlib.ticker as ticker\n",
    "\n",
    "from mpl_toolkits.mplot3d import Axes3D\n",
    "from sklearn.linear_model import LinearRegression\n",
    "from sklearn.pipeline import Pipeline\n",
    "from sklearn.preprocessing import StandardScaler\n",
    "\n",
    "%matplotlib inline"
   ]
  },
  {
   "cell_type": "markdown",
   "metadata": {},
   "source": [
    "### Linear regression with one variable"
   ]
  },
  {
   "cell_type": "markdown",
   "metadata": {},
   "source": [
    "#### Load data from CSV file\n",
    "#### - column 1: population (x)\n",
    "#### - column 2: profit (y)"
   ]
  },
  {
   "cell_type": "code",
   "execution_count": 3,
   "metadata": {},
   "outputs": [],
   "source": [
    "#### In this cell we are going to load the data using np.loadtxt\n",
    "data = np.loadtxt(\"C:/Users/Dell/Desktop/AI/5th workshop/data-20190403T132546Z-001/data/ml-LR/data1.txt\",delimiter=\",\")"
   ]
  },
  {
   "cell_type": "code",
   "execution_count": 5,
   "metadata": {},
   "outputs": [
    {
     "data": {
      "text/plain": [
       "array([[17.592  ],\n",
       "       [ 9.1302 ],\n",
       "       [13.662  ],\n",
       "       [11.854  ],\n",
       "       [ 6.8233 ],\n",
       "       [11.886  ],\n",
       "       [ 4.3483 ],\n",
       "       [12.     ],\n",
       "       [ 6.5987 ],\n",
       "       [ 3.8166 ],\n",
       "       [ 3.2522 ],\n",
       "       [15.505  ],\n",
       "       [ 3.1551 ],\n",
       "       [ 7.2258 ],\n",
       "       [ 0.71618],\n",
       "       [ 3.5129 ],\n",
       "       [ 5.3048 ],\n",
       "       [ 0.56077],\n",
       "       [ 3.6518 ],\n",
       "       [ 5.3893 ],\n",
       "       [ 3.1386 ],\n",
       "       [21.767  ],\n",
       "       [ 4.263  ],\n",
       "       [ 5.1875 ],\n",
       "       [ 3.0825 ],\n",
       "       [22.638  ],\n",
       "       [13.501  ],\n",
       "       [ 7.0467 ],\n",
       "       [14.692  ],\n",
       "       [24.147  ],\n",
       "       [-1.22   ],\n",
       "       [ 5.9966 ],\n",
       "       [12.134  ],\n",
       "       [ 1.8495 ],\n",
       "       [ 6.5426 ],\n",
       "       [ 4.5623 ],\n",
       "       [ 4.1164 ],\n",
       "       [ 3.3928 ],\n",
       "       [10.117  ],\n",
       "       [ 5.4974 ],\n",
       "       [ 0.55657],\n",
       "       [ 3.9115 ],\n",
       "       [ 5.3854 ],\n",
       "       [ 2.4406 ],\n",
       "       [ 6.7318 ],\n",
       "       [ 1.0463 ],\n",
       "       [ 5.1337 ],\n",
       "       [ 1.844  ],\n",
       "       [ 8.0043 ],\n",
       "       [ 1.0179 ],\n",
       "       [ 6.7504 ],\n",
       "       [ 1.8396 ],\n",
       "       [ 4.2885 ],\n",
       "       [ 4.9981 ],\n",
       "       [ 1.4233 ],\n",
       "       [-1.4211 ],\n",
       "       [ 2.4756 ],\n",
       "       [ 4.6042 ],\n",
       "       [ 3.9624 ],\n",
       "       [ 5.4141 ],\n",
       "       [ 5.1694 ],\n",
       "       [-0.74279],\n",
       "       [17.929  ],\n",
       "       [12.054  ],\n",
       "       [17.054  ],\n",
       "       [ 4.8852 ],\n",
       "       [ 5.7442 ],\n",
       "       [ 7.7754 ],\n",
       "       [ 1.0173 ],\n",
       "       [20.992  ],\n",
       "       [ 6.6799 ],\n",
       "       [ 4.0259 ],\n",
       "       [ 1.2784 ],\n",
       "       [ 3.3411 ],\n",
       "       [-2.6807 ],\n",
       "       [ 0.29678],\n",
       "       [ 3.8845 ],\n",
       "       [ 5.7014 ],\n",
       "       [ 6.7526 ],\n",
       "       [ 2.0576 ],\n",
       "       [ 0.47953],\n",
       "       [ 0.20421],\n",
       "       [ 0.67861],\n",
       "       [ 7.5435 ],\n",
       "       [ 5.3436 ],\n",
       "       [ 4.2415 ],\n",
       "       [ 6.7981 ],\n",
       "       [ 0.92695],\n",
       "       [ 0.152  ],\n",
       "       [ 2.8214 ],\n",
       "       [ 1.8451 ],\n",
       "       [ 4.2959 ],\n",
       "       [ 7.2029 ],\n",
       "       [ 1.9869 ],\n",
       "       [ 0.14454],\n",
       "       [ 9.0551 ],\n",
       "       [ 0.61705]])"
      ]
     },
     "execution_count": 5,
     "metadata": {},
     "output_type": "execute_result"
    }
   ],
   "source": [
    "# Separate features (x) from target (y) using np.hsplit\n",
    "X, y = np.hsplit(data,2)\n",
    "y"
   ]
  },
  {
   "cell_type": "code",
   "execution_count": 13,
   "metadata": {},
   "outputs": [
    {
     "data": {
      "text/plain": [
       "97"
      ]
     },
     "execution_count": 13,
     "metadata": {},
     "output_type": "execute_result"
    }
   ],
   "source": [
    "# Return number of examples m\n",
    "m=X.size"
   ]
  },
  {
   "cell_type": "code",
   "execution_count": 14,
   "metadata": {},
   "outputs": [
    {
     "data": {
      "text/plain": [
       "LinearRegression(copy_X=True, fit_intercept=True, n_jobs=None,\n",
       "         normalize=False)"
      ]
     },
     "execution_count": 14,
     "metadata": {},
     "output_type": "execute_result"
    }
   ],
   "source": [
    "# Fit a linear regression model (without regularization)\n",
    "model = LinearRegression()\n",
    "model.fit(X, y)"
   ]
  },
  {
   "cell_type": "code",
   "execution_count": 15,
   "metadata": {},
   "outputs": [
    {
     "data": {
      "text/plain": [
       "(array([-3.89578088]), array([1.19303364]))"
      ]
     },
     "execution_count": 15,
     "metadata": {},
     "output_type": "execute_result"
    }
   ],
   "source": [
    "# Obtain coefficients theta0 and theta1 from model  ax+b \n",
    "theta0, theta1 = model.intercept_, model.coef_[0]\n",
    "theta0, theta1"
   ]
  },
  {
   "cell_type": "code",
   "execution_count": 16,
   "metadata": {},
   "outputs": [
    {
     "data": {
      "text/plain": [
       "<matplotlib.legend.Legend at 0x233c43afbe0>"
      ]
     },
     "execution_count": 16,
     "metadata": {},
     "output_type": "execute_result"
    },
    {
     "data": {
      "image/png": "[encoded data removed]",
      "text/plain": [
       "<Figure size 432x288 with 1 Axes>"
      ]
     },
     "metadata": {
      "needs_background": "light"
     },
     "output_type": "display_data"
    }
   ],
   "source": [
    "# Plot data and regression line\n",
    "plt.plot(X, y, 'bx', label='Data')\n",
    "plt.plot(X, model.predict(X), 'r-', label='Regression')\n",
    "plt.xlabel('Population')\n",
    "plt.ylabel('Profit')\n",
    "plt.legend()"
   ]
  },
  {
   "cell_type": "code",
   "execution_count": 20,
   "metadata": {},
   "outputs": [
    {
     "data": {
      "text/plain": [
       "8.953942751950358"
      ]
     },
     "execution_count": 20,
     "metadata": {},
     "output_type": "execute_result"
    }
   ],
   "source": [
    "# Training mean squared error\n",
    "# Using the np.mean() of the difference between the predcted utput and the actual output.n\n",
    "np.mean((model.predict(X)-y)**2)"
   ]
  },
  {
   "cell_type": "code",
   "execution_count": 17,
   "metadata": {},
   "outputs": [
    {
     "data": {
      "text/plain": [
       "0.7020315537841397"
      ]
     },
     "execution_count": 17,
     "metadata": {},
     "output_type": "execute_result"
    }
   ],
   "source": [
    "# Training score\n",
    "#To get the accuracy of the model we use modeL.score() \n",
    "model.score(X,y)"
   ]
  },
  {
   "cell_type": "code",
   "execution_count": 21,
   "metadata": {},
   "outputs": [
    {
     "data": {
      "text/plain": [
       "array([[ 2798.36876352],\n",
       "       [44554.54631015]])"
      ]
     },
     "execution_count": 21,
     "metadata": {},
     "output_type": "execute_result"
    }
   ],
   "source": [
    "# Predict profit for populations of 35.000 and 70.000 using np.array\n",
    "model.predict(np.array([[3.5],[7.0]]))*10000 "
   ]
  },
  {
   "cell_type": "code",
   "execution_count": 23,
   "metadata": {},
   "outputs": [
    {
     "data": {
      "text/plain": [
       "array([[35000.],\n",
       "       [70000.]])"
      ]
     },
     "execution_count": 23,
     "metadata": {},
     "output_type": "execute_result"
    }
   ],
   "source": [
    "np.array([[3.5],[7.0]])*10000 "
   ]
  },
  {
   "cell_type": "markdown",
   "metadata": {},
   "source": [
    "### Linear regression with multiple variables"
   ]
  },
  {
   "cell_type": "code",
   "execution_count": 25,
   "metadata": {},
   "outputs": [
    {
     "data": {
      "text/plain": [
       "array([[2.10400e+03, 3.00000e+00, 3.99900e+05],\n",
       "       [1.60000e+03, 3.00000e+00, 3.29900e+05],\n",
       "       [2.40000e+03, 3.00000e+00, 3.69000e+05],\n",
       "       [1.41600e+03, 2.00000e+00, 2.32000e+05],\n",
       "       [3.00000e+03, 4.00000e+00, 5.39900e+05],\n",
       "       [1.98500e+03, 4.00000e+00, 2.99900e+05],\n",
       "       [1.53400e+03, 3.00000e+00, 3.14900e+05],\n",
       "       [1.42700e+03, 3.00000e+00, 1.98999e+05],\n",
       "       [1.38000e+03, 3.00000e+00, 2.12000e+05],\n",
       "       [1.49400e+03, 3.00000e+00, 2.42500e+05],\n",
       "       [1.94000e+03, 4.00000e+00, 2.39999e+05],\n",
       "       [2.00000e+03, 3.00000e+00, 3.47000e+05],\n",
       "       [1.89000e+03, 3.00000e+00, 3.29999e+05],\n",
       "       [4.47800e+03, 5.00000e+00, 6.99900e+05],\n",
       "       [1.26800e+03, 3.00000e+00, 2.59900e+05],\n",
       "       [2.30000e+03, 4.00000e+00, 4.49900e+05],\n",
       "       [1.32000e+03, 2.00000e+00, 2.99900e+05],\n",
       "       [1.23600e+03, 3.00000e+00, 1.99900e+05],\n",
       "       [2.60900e+03, 4.00000e+00, 4.99998e+05],\n",
       "       [3.03100e+03, 4.00000e+00, 5.99000e+05],\n",
       "       [1.76700e+03, 3.00000e+00, 2.52900e+05],\n",
       "       [1.88800e+03, 2.00000e+00, 2.55000e+05],\n",
       "       [1.60400e+03, 3.00000e+00, 2.42900e+05],\n",
       "       [1.96200e+03, 4.00000e+00, 2.59900e+05],\n",
       "       [3.89000e+03, 3.00000e+00, 5.73900e+05],\n",
       "       [1.10000e+03, 3.00000e+00, 2.49900e+05],\n",
       "       [1.45800e+03, 3.00000e+00, 4.64500e+05],\n",
       "       [2.52600e+03, 3.00000e+00, 4.69000e+05],\n",
       "       [2.20000e+03, 3.00000e+00, 4.75000e+05],\n",
       "       [2.63700e+03, 3.00000e+00, 2.99900e+05],\n",
       "       [1.83900e+03, 2.00000e+00, 3.49900e+05],\n",
       "       [1.00000e+03, 1.00000e+00, 1.69900e+05],\n",
       "       [2.04000e+03, 4.00000e+00, 3.14900e+05],\n",
       "       [3.13700e+03, 3.00000e+00, 5.79900e+05],\n",
       "       [1.81100e+03, 4.00000e+00, 2.85900e+05],\n",
       "       [1.43700e+03, 3.00000e+00, 2.49900e+05],\n",
       "       [1.23900e+03, 3.00000e+00, 2.29900e+05],\n",
       "       [2.13200e+03, 4.00000e+00, 3.45000e+05],\n",
       "       [4.21500e+03, 4.00000e+00, 5.49000e+05],\n",
       "       [2.16200e+03, 4.00000e+00, 2.87000e+05],\n",
       "       [1.66400e+03, 2.00000e+00, 3.68500e+05],\n",
       "       [2.23800e+03, 3.00000e+00, 3.29900e+05],\n",
       "       [2.56700e+03, 4.00000e+00, 3.14000e+05],\n",
       "       [1.20000e+03, 3.00000e+00, 2.99000e+05],\n",
       "       [8.52000e+02, 2.00000e+00, 1.79900e+05],\n",
       "       [1.85200e+03, 4.00000e+00, 2.99900e+05],\n",
       "       [1.20300e+03, 3.00000e+00, 2.39500e+05]])"
      ]
     },
     "execution_count": 25,
     "metadata": {},
     "output_type": "execute_result"
    }
   ],
   "source": [
    "# Load data from CSV file\n",
    "# - column 1: house size in feet**2 (x1)\n",
    "# - column 2: number of bedrooms (x2)\n",
    "# - column 3: house price (y)\n",
    "data =  np.loadtxt(\"C:/Users/Dell/Desktop/AI/5th workshop/data-20190403T132546Z-001/data/ml-LR/data2.txt\",delimiter=\",\")\n",
    "data"
   ]
  },
  {
   "cell_type": "code",
   "execution_count": 31,
   "metadata": {},
   "outputs": [],
   "source": [
    "# Separate features (x1, x2) from target (y)\n",
    "X, y = np.hsplit(data,np.array([2]))"
   ]
  },
  {
   "cell_type": "code",
   "execution_count": 27,
   "metadata": {},
   "outputs": [
    {
     "data": {
      "text/plain": [
       "97"
      ]
     },
     "execution_count": 27,
     "metadata": {},
     "output_type": "execute_result"
    }
   ],
   "source": [
    "# Number of examples\n",
    "m = y.size\n",
    "m"
   ]
  },
  {
   "cell_type": "code",
   "execution_count": 33,
   "metadata": {},
   "outputs": [],
   "source": [
    "# Pipeline components\n",
    "scaler = StandardScaler()\n",
    "regr = LinearRegression()\n",
    "\n",
    "# Pipeline of feature scaler and linear regressor\n",
    "model = Pipeline([('scaler', scaler), ('regr', regr)])"
   ]
  },
  {
   "cell_type": "code",
   "execution_count": 34,
   "metadata": {},
   "outputs": [
    {
     "data": {
      "text/plain": [
       "Pipeline(memory=None,\n",
       "     steps=[('scaler', StandardScaler(copy=True, with_mean=True, with_std=True)), ('regr', LinearRegression(copy_X=True, fit_intercept=True, n_jobs=None,\n",
       "         normalize=False))])"
      ]
     },
     "execution_count": 34,
     "metadata": {},
     "output_type": "execute_result"
    }
   ],
   "source": [
    "# Run linear regression on scaled features\n",
    "model.fit(X, y)"
   ]
  },
  {
   "cell_type": "code",
   "execution_count": 35,
   "metadata": {
    "scrolled": false
   },
   "outputs": [
    {
     "data": {
      "image/png": "[encoded data removed]",
      "text/plain": [
       "<Figure size 648x720 with 2 Axes>"
      ]
     },
     "metadata": {
      "needs_background": "light"
     },
     "output_type": "display_data"
    }
   ],
   "source": [
    "# Create a grid from feature min and max values\n",
    "grid_range = np.vstack([X.min(axis=0), X.max(axis=0)])\n",
    "grid = np.meshgrid(grid_range[:,0], grid_range[:,1])\n",
    "\n",
    "# Compute predictions from grid values\n",
    "X_grid = np.c_[grid[0].ravel(), grid[1].ravel()]\n",
    "y_grid = model.predict(X_grid).reshape(grid[0].shape)\n",
    "\n",
    "def plot_data_and_regression(fig, fignum, view_angle):\n",
    "    sp = fig.add_subplot(2, 1, fignum, projection='3d')\n",
    "    sp.view_init(view_angle, 90)\n",
    "    sp.set_xlabel('Square feet')\n",
    "    sp.set_ylabel('Bedrooms')\n",
    "    sp.set_zlabel('Price')\n",
    "    sp.set_title(f'angle = {view_angle}')\n",
    "    # Customize tick locators\n",
    "    sp.yaxis.set_major_locator(ticker.MultipleLocator(1.00))\n",
    "    sp.zaxis.set_major_locator(ticker.MultipleLocator(200000))\n",
    "    # Plot examples\n",
    "    sp.scatter(X[:,0], X[:,1], y)\n",
    "    # Plot regression area\n",
    "    sp.plot_surface(grid[0], grid[1], y_grid, color='y', alpha=0.2)\n",
    "\n",
    "# Create new figure\n",
    "fig = plt.figure(2, figsize=[9, 10])\n",
    " \n",
    "# Plot data and regression from two different angles\n",
    "plot_data_and_regression(fig, fignum=1, view_angle=20)\n",
    "plot_data_and_regression(fig, fignum=2, view_angle=75)"
   ]
  },
  {
   "cell_type": "code",
   "execution_count": 36,
   "metadata": {},
   "outputs": [
    {
     "data": {
      "text/plain": [
       "4086560101.205658"
      ]
     },
     "execution_count": 36,
     "metadata": {},
     "output_type": "execute_result"
    }
   ],
   "source": [
    "# Training mean squared error\n",
    "np.mean((model.predict(X) - y) ** 2)"
   ]
  },
  {
   "cell_type": "code",
   "execution_count": 37,
   "metadata": {},
   "outputs": [
    {
     "data": {
      "text/plain": [
       "0.7329450180289141"
      ]
     },
     "execution_count": 37,
     "metadata": {},
     "output_type": "execute_result"
    }
   ],
   "source": [
    "# Training score\n",
    "model.score(X, y)"
   ]
  }
 ],
 "metadata": {
  "kernelspec": {
   "display_name": "Python 3",
   "language": "python",
   "name": "python3"
  },
  "language_info": {
   "codemirror_mode": {
    "name": "ipython",
    "version": 3
   },
   "file_extension": ".py",
   "mimetype": "text/x-python",
   "name": "python",
   "nbconvert_exporter": "python",
   "pygments_lexer": "ipython3",
   "version": "3.7.1"
  }
 },
 "nbformat": 4,
 "nbformat_minor": 1
}
